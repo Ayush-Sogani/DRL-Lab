{
 "cells": [
  {
   "cell_type": "code",
   "execution_count": 1,
   "metadata": {},
   "outputs": [],
   "source": [
    "import numpy as np\n",
    "import pylab as pl\n",
    "import networkx as nx"
   ]
  },
  {
   "cell_type": "code",
   "execution_count": 2,
   "metadata": {},
   "outputs": [
    {
     "data": {
      "image/png": "[encoded data removed]",
      "text/plain": [
       "<Figure size 432x288 with 1 Axes>"
      ]
     },
     "metadata": {},
     "output_type": "display_data"
    }
   ],
   "source": [
    "# Define and plot the graph\n",
    "edges = [(0, 1), (1, 5), (5, 6), (5, 4), (1, 2), \n",
    "        (1, 3), (9, 10), (2, 4), (0, 6), (6, 7), \n",
    "        (8, 9), (7, 8), (1, 7), (3, 9)] \n",
    "\n",
    "goal = 10\n",
    "G = nx.Graph() \n",
    "G.add_edges_from(edges) \n",
    "pos = nx.spring_layout(G) \n",
    "nx.draw_networkx_nodes(G, pos) \n",
    "nx.draw_networkx_edges(G, pos) \n",
    "nx.draw_networkx_labels(G, pos) \n",
    "pl.show() "
   ]
  },
  {
   "cell_type": "code",
   "execution_count": 3,
   "metadata": {},
   "outputs": [
    {
     "name": "stdout",
     "output_type": "stream",
     "text": [
      "(0, 1)\n",
      "(1, 5)\n",
      "(5, 6)\n",
      "(5, 4)\n",
      "(1, 2)\n",
      "(1, 3)\n",
      "(9, 10)\n",
      "(2, 4)\n",
      "(0, 6)\n",
      "(6, 7)\n",
      "(8, 9)\n",
      "(7, 8)\n",
      "(1, 7)\n",
      "(3, 9)\n",
      "[[ -1.   0.  -1.  -1.  -1.  -1.   0.  -1.  -1.  -1.  -1.]\n",
      " [  0.  -1.   0.   0.  -1.   0.  -1.   0.  -1.  -1.  -1.]\n",
      " [ -1.   0.  -1.  -1.   0.  -1.  -1.  -1.  -1.  -1.  -1.]\n",
      " [ -1.   0.  -1.  -1.  -1.  -1.  -1.  -1.  -1.   0.  -1.]\n",
      " [ -1.  -1.   0.  -1.  -1.   0.  -1.  -1.  -1.  -1.  -1.]\n",
      " [ -1.   0.  -1.  -1.   0.  -1.   0.  -1.  -1.  -1.  -1.]\n",
      " [  0.  -1.  -1.  -1.  -1.   0.  -1.   0.  -1.  -1.  -1.]\n",
      " [ -1.   0.  -1.  -1.  -1.  -1.   0.  -1.   0.  -1.  -1.]\n",
      " [ -1.  -1.  -1.  -1.  -1.  -1.  -1.   0.  -1.   0.  -1.]\n",
      " [ -1.  -1.  -1.   0.  -1.  -1.  -1.  -1.   0.  -1. 100.]\n",
      " [ -1.  -1.  -1.  -1.  -1.  -1.  -1.  -1.  -1.   0. 100.]]\n"
     ]
    }
   ],
   "source": [
    "# Defining the reward system for robot salesman\n",
    "MATRIX_SIZE = 11\n",
    "M = np.matrix(np.ones(shape =(MATRIX_SIZE, MATRIX_SIZE))) \n",
    "M *= -1\n",
    "\n",
    "for point in edges: \n",
    "    print(point) \n",
    "    if point[1] == goal: \n",
    "        M[point] = 100\n",
    "    else: \n",
    "        M[point] = 0\n",
    "    if point[0] == goal: \n",
    "        M[point[::-1]] = 100\n",
    "    else: \n",
    "        M[point[::-1]]= 0\n",
    "M[goal, goal]= 100\n",
    "print(M)  "
   ]
  },
  {
   "cell_type": "code",
   "execution_count": 4,
   "metadata": {},
   "outputs": [
    {
     "data": {
      "text/plain": [
       "0"
      ]
     },
     "execution_count": 4,
     "metadata": {},
     "output_type": "execute_result"
    }
   ],
   "source": [
    "# Define the training functions\n",
    "Q = np.matrix(np.zeros([MATRIX_SIZE, MATRIX_SIZE])) \n",
    "\n",
    "# parameter for learning \n",
    "gamma = 0.75\n",
    "initial_state = 1\n",
    "\n",
    "# Decide the available actions for a given state \n",
    "def available_actions(state): \n",
    "    current_state_row = M[state, ] \n",
    "    available_action = np.where(current_state_row >= 0)[1] \n",
    "    return available_action\n",
    "\n",
    "available_action = available_actions(initial_state) \n",
    "\n",
    "# Chooses one of the available actions at random \n",
    "def sample_next_action(available_actions_range): \n",
    "    next_action = int(np.random.choice(available_action, 1)) \n",
    "    return next_action\n",
    "\n",
    "action = sample_next_action(available_action) \n",
    "\n",
    "def update(current_state, action, gamma): \n",
    "\n",
    "    max_index = np.where(Q[action, ] == np.max(Q[action, ]))[1] \n",
    "    if max_index.shape[0] > 1: \n",
    "        max_index = int(np.random.choice(max_index, size = 1)) \n",
    "    else: \n",
    "        max_index = int(max_index) \n",
    "    max_value = Q[action, max_index] \n",
    "    Q[current_state, action] = M[current_state, action] + gamma * max_value \n",
    "    if (np.max(Q) > 0): \n",
    "        return(np.sum(Q / np.max(Q)*100)) \n",
    "    else: \n",
    "        return (0) \n",
    "\n",
    "# Updates the Q-Matrix according to the path chosen \n",
    "update(initial_state, action, gamma) "
   ]
  },
  {
   "cell_type": "code",
   "execution_count": 5,
   "metadata": {},
   "outputs": [
    {
     "name": "stdout",
     "output_type": "stream",
     "text": [
      "Trained Q matrix:\n",
      "[[  0.          42.18426595   0.           0.           0.\n",
      "    0.          31.63819947   0.           0.           0.\n",
      "    0.        ]\n",
      " [ 31.57873952   0.          31.57873952  56.24568794   0.\n",
      "   31.63819947   0.          42.18426595   0.           0.\n",
      "    0.        ]\n",
      " [  0.          42.18426595   0.           0.          23.7286496\n",
      "    0.           0.           0.           0.           0.\n",
      "    0.        ]\n",
      " [  0.          42.18426595   0.           0.           0.\n",
      "    0.           0.           0.           0.          74.99425058\n",
      "    0.        ]\n",
      " [  0.           0.          31.63819947   0.           0.\n",
      "   31.63819947   0.           0.           0.           0.\n",
      "    0.        ]\n",
      " [  0.          42.18426595   0.           0.          23.7286496\n",
      "    0.          31.63819947   0.           0.           0.\n",
      "    0.        ]\n",
      " [ 31.63819947   0.           0.           0.           0.\n",
      "   31.63819947   0.          42.1875       0.           0.\n",
      "    0.        ]\n",
      " [  0.          42.18426595   0.           0.           0.\n",
      "    0.          31.63819947   0.          56.25         0.\n",
      "    0.        ]\n",
      " [  0.           0.           0.           0.           0.\n",
      "    0.           0.          42.1875       0.          75.\n",
      "    0.        ]\n",
      " [  0.           0.           0.          56.24568794   0.\n",
      "    0.           0.           0.          56.25         0.\n",
      "  100.        ]\n",
      " [  0.           0.           0.           0.           0.\n",
      "    0.           0.           0.           0.          75.\n",
      "   99.99881726]]\n",
      "Most efficient path for delivery:\n",
      "[0, 1, 3, 9, 10]\n"
     ]
    },
    {
     "data": {
      "image/png": "[encoded data removed]",
      "text/plain": [
       "<Figure size 432x288 with 1 Axes>"
      ]
     },
     "metadata": {
      "needs_background": "light"
     },
     "output_type": "display_data"
    }
   ],
   "source": [
    "# Use Q-Matrix for training and evaluating the robot salesman\n",
    "scores = [] \n",
    "for i in range(1000): \n",
    "    current_state = np.random.randint(0, int(Q.shape[0])) \n",
    "    available_action = available_actions(current_state) \n",
    "    action = sample_next_action(available_action) \n",
    "    score = update(current_state, action, gamma) \n",
    "    scores.append(score) \n",
    "\n",
    "# View the Q matrix\n",
    "print(\"Trained Q matrix:\") \n",
    "print(Q / np.max(Q)*100) \n",
    " \n",
    "# Testing the path\n",
    "current_state = 0\n",
    "steps = [current_state] \n",
    "\n",
    "while current_state != 10: \n",
    "\n",
    "    next_step_index = np.where(Q[current_state, ] == np.max(Q[current_state, ]))[1] \n",
    "    if next_step_index.shape[0] > 1: \n",
    "        next_step_index = int(np.random.choice(next_step_index, size = 1)) \n",
    "    else: \n",
    "        next_step_index = int(next_step_index) \n",
    "    steps.append(next_step_index) \n",
    "    current_state = next_step_index \n",
    "\n",
    "# Show the best path\n",
    "print(\"Most efficient path for delivery:\") \n",
    "print(steps) \n",
    "\n",
    "# Plot the graph\n",
    "pl.plot(scores) \n",
    "pl.xlabel('No of repitation') \n",
    "pl.ylabel('Rewards gained') \n",
    "pl.show() "
   ]
  },
  {
   "cell_type": "code",
   "execution_count": 17,
   "metadata": {},
   "outputs": [
    {
     "data": {
      "image/png": "[encoded data removed]",
      "text/plain": [
       "<Figure size 432x288 with 1 Axes>"
      ]
     },
     "metadata": {},
     "output_type": "display_data"
    }
   ],
   "source": [
    "# Defining the locations of hotspot areas and the helpdesk counters \n",
    "\n",
    "hotspot = [2, 4, 5] \n",
    "helpdesk = [3, 8, 9] \n",
    "\n",
    "G = nx.Graph() \n",
    "G.add_edges_from(edges) \n",
    "mapping = {0:'0 - robot salesman', 1:'1', 2:'2 - hotspot', 3:'3 - helpdesk', \n",
    "           4:'4 - hotspot', 5:'5 - hotspot', 6:'6', 7:'7', 8:'8 - helpdesk', \n",
    "           9:'9 - helpdesk', 10:'10 - customer_location'} \n",
    "\n",
    "H = nx.relabel_nodes(G, mapping) \n",
    "pos = nx.spring_layout(H) \n",
    "nx.draw_networkx_nodes(H, pos, node_size =[200]) \n",
    "nx.draw_networkx_edges(H, pos) \n",
    "nx.draw_networkx_labels(H, pos) \n",
    "pl.show()"
   ]
  },
  {
   "cell_type": "code",
   "execution_count": 18,
   "metadata": {},
   "outputs": [],
   "source": [
    "Q = np.matrix(np.zeros([MATRIX_SIZE, MATRIX_SIZE])) \n",
    "env_hotspot = np.matrix(np.zeros([MATRIX_SIZE, MATRIX_SIZE])) \n",
    "env_helpdesk = np.matrix(np.zeros([MATRIX_SIZE, MATRIX_SIZE])) \n",
    "initial_state = 1\n",
    "\n",
    " \n",
    "def available_actions(state): \n",
    "    current_state_row = M[state, ] \n",
    "    av_action = np.where(current_state_row >= 0)[1] \n",
    "    return av_action \n",
    "\n",
    "\n",
    "def sample_next_action(available_actions_range): \n",
    "    next_action = int(np.random.choice(available_action, 1)) \n",
    "    return next_action \n",
    "\n",
    "# Exploring the environment \n",
    "def collect_environmental_data(action): \n",
    "    found = [] \n",
    "    if action in hotspot: \n",
    "        found.append('hs') \n",
    "    if action in helpdesk: \n",
    "        found.append('hd') \n",
    "    return (found) \n",
    "\n",
    "\n",
    "available_action = available_actions(initial_state) \n",
    "action = sample_next_action(available_action) \n",
    "\n",
    "def update(current_state, action, gamma): \n",
    "    max_index = np.where(Q[action, ] == np.max(Q[action, ]))[1] \n",
    "    if max_index.shape[0] > 1: \n",
    "        max_index = int(np.random.choice(max_index, size = 1)) \n",
    "    else: \n",
    "        max_index = int(max_index) \n",
    "    max_value = Q[action, max_index] \n",
    "    Q[current_state, action] = M[current_state, action] + gamma * max_value \n",
    "    environment = collect_environmental_data(action) \n",
    "    if 'hs' in environment: \n",
    "        env_hotspot[current_state, action] += 1\n",
    "    if 'hd' in environment: \n",
    "        env_helpdesk[current_state, action] += 1\n",
    "    if (np.max(Q) > 0): \n",
    "        return(np.sum(Q / np.max(Q)*100)) \n",
    "    else: \n",
    "        return (0) \n",
    "\n",
    "update(initial_state, action, gamma) \n",
    "\n",
    "def available_actions_with_env_help(state): \n",
    "    current_state_row = M[state, ] \n",
    "    av_action = np.where(current_state_row >= 0)[1]\n",
    "    \n",
    "# In case of multiple routes, remove negative values\n",
    "    env_pos_row = env_matrix_snap[state, av_action] \n",
    "\n",
    "    if (np.sum(env_pos_row < 0)): \n",
    "        \n",
    "# Remove the negative directions from available action.\n",
    "# Identifies the available actions according to the environment \n",
    "        temp_av_action = av_action[np.array(env_pos_row)[0]>= 0] \n",
    "        if len(temp_av_action) > 0: \n",
    "            av_action = temp_av_action \n",
    "    return av_action "
   ]
  },
  {
   "cell_type": "code",
   "execution_count": 12,
   "metadata": {},
   "outputs": [
    {
     "name": "stdout",
     "output_type": "stream",
     "text": [
      "Hotspot Found\n",
      "[[ 0.  0.  0.  0.  0.  0.  0.  0.  0.  0.  0.]\n",
      " [ 0.  0. 21.  0.  0. 20.  0.  0.  0.  0.  0.]\n",
      " [ 0.  0.  0.  0. 37.  0.  0.  0.  0.  0.  0.]\n",
      " [ 0.  0.  0.  0.  0.  0.  0.  0.  0.  0.  0.]\n",
      " [ 0.  0. 57.  0.  0. 38.  0.  0.  0.  0.  0.]\n",
      " [ 0.  0.  0.  0. 39.  0.  0.  0.  0.  0.  0.]\n",
      " [ 0.  0.  0.  0.  0. 30.  0.  0.  0.  0.  0.]\n",
      " [ 0.  0.  0.  0.  0.  0.  0.  0.  0.  0.  0.]\n",
      " [ 0.  0.  0.  0.  0.  0.  0.  0.  0.  0.  0.]\n",
      " [ 0.  0.  0.  0.  0.  0.  0.  0.  0.  0.  0.]\n",
      " [ 0.  0.  0.  0.  0.  0.  0.  0.  0.  0.  0.]]\n",
      "\n",
      "Helpdesk Found\n",
      "[[ 0.  0.  0.  0.  0.  0.  0.  0.  0.  0.  0.]\n",
      " [ 0.  0.  0. 17.  0.  0.  0.  0.  0.  0.  0.]\n",
      " [ 0.  0.  0.  0.  0.  0.  0.  0.  0.  0.  0.]\n",
      " [ 0.  0.  0.  0.  0.  0.  0.  0.  0. 52.  0.]\n",
      " [ 0.  0.  0.  0.  0.  0.  0.  0.  0.  0.  0.]\n",
      " [ 0.  0.  0.  0.  0.  0.  0.  0.  0.  0.  0.]\n",
      " [ 0.  0.  0.  0.  0.  0.  0.  0.  0.  0.  0.]\n",
      " [ 0.  0.  0.  0.  0.  0.  0.  0. 22.  0.  0.]\n",
      " [ 0.  0.  0.  0.  0.  0.  0.  0.  0. 37.  0.]\n",
      " [ 0.  0.  0. 23.  0.  0.  0.  0. 39.  0.  0.]\n",
      " [ 0.  0.  0.  0.  0.  0.  0.  0.  0. 56.  0.]]\n"
     ]
    }
   ],
   "source": [
    "# Visualize the matrics environment\n",
    "scores = [] \n",
    "for i in range(1000): \n",
    "    current_state = np.random.randint(0, int(Q.shape[0])) \n",
    "    available_action = available_actions(current_state) \n",
    "    action = sample_next_action(available_action) \n",
    "    score = update(current_state, action, gamma) \n",
    "\n",
    "# print environmental matrics \n",
    "print('Hotspot Found') \n",
    "print(env_hotspot) \n",
    "print('') \n",
    "print('Helpdesk Found') \n",
    "print(env_helpdesk) "
   ]
  },
  {
   "cell_type": "code",
   "execution_count": 15,
   "metadata": {},
   "outputs": [
    {
     "data": {
      "image/png": "[encoded data removed]",
      "text/plain": [
       "<Figure size 432x288 with 1 Axes>"
      ]
     },
     "metadata": {
      "needs_background": "light"
     },
     "output_type": "display_data"
    }
   ],
   "source": [
    "scores = []\n",
    "for i in range(1000): \n",
    "    current_state = np.random.randint(0, int(Q.shape[0])) \n",
    "    available_action = available_actions(current_state) \n",
    "    action = sample_next_action(available_action) \n",
    "    score = update(current_state, action, gamma) \n",
    "    scores.append(score) \n",
    "\n",
    "# Plot the graph\n",
    "pl.plot(scores) \n",
    "pl.xlabel('Number of iterations') \n",
    "pl.ylabel('Reward gained') \n",
    "pl.show() "
   ]
  },
  {
   "cell_type": "code",
   "execution_count": null,
   "metadata": {},
   "outputs": [],
   "source": []
  },
  {
   "cell_type": "code",
   "execution_count": null,
   "metadata": {},
   "outputs": [],
   "source": []
  }
 ],
 "metadata": {
  "kernelspec": {
   "display_name": "Python 3",
   "language": "python",
   "name": "python3"
  },
  "language_info": {
   "codemirror_mode": {
    "name": "ipython",
    "version": 3
   },
   "file_extension": ".py",
   "mimetype": "text/x-python",
   "name": "python",
   "nbconvert_exporter": "python",
   "pygments_lexer": "ipython3",
   "version": "3.7.6"
  }
 },
 "nbformat": 4,
 "nbformat_minor": 4
}
