{
 "cells": [
  {
   "cell_type": "code",
   "execution_count": 1,
   "metadata": {},
   "outputs": [],
   "source": [
    "import numpy as np\n",
    "import matplotlib.pyplot as plt\n",
    "import pandas as pd\n",
    "import seaborn as sns\n",
    "\n",
    "\n",
    "# Importing the dataset\n",
    "dataset = pd.read_csv('Laptop_Ads_Optimization.csv')"
   ]
  },
  {
   "cell_type": "code",
   "execution_count": 2,
   "metadata": {},
   "outputs": [
    {
     "data": {
      "text/html": [
       "<div>\n",
       "<style scoped>\n",
       "    .dataframe tbody tr th:only-of-type {\n",
       "        vertical-align: middle;\n",
       "    }\n",
       "\n",
       "    .dataframe tbody tr th {\n",
       "        vertical-align: top;\n",
       "    }\n",
       "\n",
       "    .dataframe thead th {\n",
       "        text-align: right;\n",
       "    }\n",
       "</style>\n",
       "<table border=\"1\" class=\"dataframe\">\n",
       "  <thead>\n",
       "    <tr style=\"text-align: right;\">\n",
       "      <th></th>\n",
       "      <th>Latitude 3510</th>\n",
       "      <th>Latitude 3310</th>\n",
       "      <th>Latitude 3410</th>\n",
       "      <th>Latitude 3500</th>\n",
       "      <th>Latitude 3301</th>\n",
       "      <th>Latitude 5300</th>\n",
       "      <th>Latitude 5400</th>\n",
       "      <th>Latitude 5410</th>\n",
       "      <th>Latitude 5510</th>\n",
       "      <th>Latitude 5511</th>\n",
       "      <th>Latitude 5411</th>\n",
       "      <th>Latitude 9410</th>\n",
       "      <th>Latitude 7310</th>\n",
       "    </tr>\n",
       "  </thead>\n",
       "  <tbody>\n",
       "    <tr>\n",
       "      <th>0</th>\n",
       "      <td>1</td>\n",
       "      <td>0</td>\n",
       "      <td>0</td>\n",
       "      <td>0</td>\n",
       "      <td>1</td>\n",
       "      <td>0</td>\n",
       "      <td>0</td>\n",
       "      <td>0</td>\n",
       "      <td>1</td>\n",
       "      <td>0</td>\n",
       "      <td>0</td>\n",
       "      <td>0</td>\n",
       "      <td>0</td>\n",
       "    </tr>\n",
       "    <tr>\n",
       "      <th>1</th>\n",
       "      <td>0</td>\n",
       "      <td>0</td>\n",
       "      <td>0</td>\n",
       "      <td>0</td>\n",
       "      <td>0</td>\n",
       "      <td>0</td>\n",
       "      <td>0</td>\n",
       "      <td>0</td>\n",
       "      <td>1</td>\n",
       "      <td>0</td>\n",
       "      <td>0</td>\n",
       "      <td>0</td>\n",
       "      <td>0</td>\n",
       "    </tr>\n",
       "    <tr>\n",
       "      <th>2</th>\n",
       "      <td>0</td>\n",
       "      <td>0</td>\n",
       "      <td>0</td>\n",
       "      <td>0</td>\n",
       "      <td>0</td>\n",
       "      <td>0</td>\n",
       "      <td>0</td>\n",
       "      <td>0</td>\n",
       "      <td>0</td>\n",
       "      <td>0</td>\n",
       "      <td>0</td>\n",
       "      <td>0</td>\n",
       "      <td>0</td>\n",
       "    </tr>\n",
       "    <tr>\n",
       "      <th>3</th>\n",
       "      <td>0</td>\n",
       "      <td>1</td>\n",
       "      <td>0</td>\n",
       "      <td>0</td>\n",
       "      <td>0</td>\n",
       "      <td>0</td>\n",
       "      <td>0</td>\n",
       "      <td>1</td>\n",
       "      <td>0</td>\n",
       "      <td>0</td>\n",
       "      <td>0</td>\n",
       "      <td>1</td>\n",
       "      <td>0</td>\n",
       "    </tr>\n",
       "    <tr>\n",
       "      <th>4</th>\n",
       "      <td>0</td>\n",
       "      <td>0</td>\n",
       "      <td>0</td>\n",
       "      <td>0</td>\n",
       "      <td>0</td>\n",
       "      <td>0</td>\n",
       "      <td>0</td>\n",
       "      <td>0</td>\n",
       "      <td>0</td>\n",
       "      <td>0</td>\n",
       "      <td>0</td>\n",
       "      <td>0</td>\n",
       "      <td>0</td>\n",
       "    </tr>\n",
       "  </tbody>\n",
       "</table>\n",
       "</div>"
      ],
      "text/plain": [
       "   Latitude 3510  Latitude 3310  Latitude 3410  Latitude 3500  Latitude 3301  \\\n",
       "0              1              0              0              0              1   \n",
       "1              0              0              0              0              0   \n",
       "2              0              0              0              0              0   \n",
       "3              0              1              0              0              0   \n",
       "4              0              0              0              0              0   \n",
       "\n",
       "   Latitude 5300  Latitude 5400  Latitude 5410  Latitude 5510  Latitude 5511  \\\n",
       "0              0              0              0              1              0   \n",
       "1              0              0              0              1              0   \n",
       "2              0              0              0              0              0   \n",
       "3              0              0              1              0              0   \n",
       "4              0              0              0              0              0   \n",
       "\n",
       "   Latitude 5411  Latitude 9410  Latitude 7310  \n",
       "0              0              0              0  \n",
       "1              0              0              0  \n",
       "2              0              0              0  \n",
       "3              0              1              0  \n",
       "4              0              0              0  "
      ]
     },
     "execution_count": 2,
     "metadata": {},
     "output_type": "execute_result"
    }
   ],
   "source": [
    "dataset.head()"
   ]
  },
  {
   "cell_type": "code",
   "execution_count": 3,
   "metadata": {},
   "outputs": [
    {
     "data": {
      "text/plain": [
       "(8500, 13)"
      ]
     },
     "execution_count": 3,
     "metadata": {},
     "output_type": "execute_result"
    }
   ],
   "source": [
    "dataset.shape"
   ]
  },
  {
   "cell_type": "markdown",
   "metadata": {},
   "source": [
    "## Markov Decision Problem (Multi armed bandit problem)"
   ]
  },
  {
   "cell_type": "markdown",
   "metadata": {},
   "source": [
    "This techniuqe leverage's the reward with the help of expoloitation-exploration trade-off. Basically, we try to experiment with many inputs so we can get the maximum results out of those inputs."
   ]
  },
  {
   "cell_type": "markdown",
   "metadata": {},
   "source": [
    "### Selecting the Ads"
   ]
  },
  {
   "cell_type": "code",
   "execution_count": 4,
   "metadata": {},
   "outputs": [
    {
     "name": "stdout",
     "output_type": "stream",
     "text": [
      "Total reward:  1109\n"
     ]
    }
   ],
   "source": [
    "import random\n",
    "\n",
    "# Iterating over the entire dataset\n",
    "N = len(dataset)\n",
    "\n",
    "d = 13\n",
    "ads_selected = []\n",
    "total_reward = 0\n",
    "for n in range(N):\n",
    "    # taking random laptop model ad from 1 to 13\n",
    "    ad = random.randrange(d)\n",
    "    # adding the ad to the selected ads array\n",
    "    ads_selected.append(ad)\n",
    "    # reward based on the randomly selected ad\n",
    "    reward = dataset.values[n, ad]\n",
    "    total_reward = total_reward + reward\n",
    "print(\"Total reward: \", total_reward)    "
   ]
  },
  {
   "cell_type": "markdown",
   "metadata": {},
   "source": [
    "Let's see how which ads are getting the most clicks when we are running the experiment."
   ]
  },
  {
   "cell_type": "code",
   "execution_count": 5,
   "metadata": {},
   "outputs": [
    {
     "data": {
      "text/html": [
       "<div>\n",
       "<style scoped>\n",
       "    .dataframe tbody tr th:only-of-type {\n",
       "        vertical-align: middle;\n",
       "    }\n",
       "\n",
       "    .dataframe tbody tr th {\n",
       "        vertical-align: top;\n",
       "    }\n",
       "\n",
       "    .dataframe thead th {\n",
       "        text-align: right;\n",
       "    }\n",
       "</style>\n",
       "<table border=\"1\" class=\"dataframe\">\n",
       "  <thead>\n",
       "    <tr style=\"text-align: right;\">\n",
       "      <th></th>\n",
       "      <th>dist_per</th>\n",
       "    </tr>\n",
       "  </thead>\n",
       "  <tbody>\n",
       "    <tr>\n",
       "      <th>Latitude 5511</th>\n",
       "      <td>0.100</td>\n",
       "    </tr>\n",
       "    <tr>\n",
       "      <th>Latitude 3500</th>\n",
       "      <td>0.089</td>\n",
       "    </tr>\n",
       "    <tr>\n",
       "      <th>Latitude 5410</th>\n",
       "      <td>0.086</td>\n",
       "    </tr>\n",
       "    <tr>\n",
       "      <th>Latitude 5510</th>\n",
       "      <td>0.078</td>\n",
       "    </tr>\n",
       "    <tr>\n",
       "      <th>Latitude 7310</th>\n",
       "      <td>0.077</td>\n",
       "    </tr>\n",
       "    <tr>\n",
       "      <th>Latitude 3410</th>\n",
       "      <td>0.077</td>\n",
       "    </tr>\n",
       "    <tr>\n",
       "      <th>Latitude 5300</th>\n",
       "      <td>0.076</td>\n",
       "    </tr>\n",
       "    <tr>\n",
       "      <th>Latitude 3301</th>\n",
       "      <td>0.076</td>\n",
       "    </tr>\n",
       "    <tr>\n",
       "      <th>Latitude 3510</th>\n",
       "      <td>0.075</td>\n",
       "    </tr>\n",
       "    <tr>\n",
       "      <th>Latitude 5411</th>\n",
       "      <td>0.073</td>\n",
       "    </tr>\n",
       "    <tr>\n",
       "      <th>Latitude 3310</th>\n",
       "      <td>0.069</td>\n",
       "    </tr>\n",
       "    <tr>\n",
       "      <th>Latitude 5400</th>\n",
       "      <td>0.063</td>\n",
       "    </tr>\n",
       "    <tr>\n",
       "      <th>Latitude 9410</th>\n",
       "      <td>0.061</td>\n",
       "    </tr>\n",
       "  </tbody>\n",
       "</table>\n",
       "</div>"
      ],
      "text/plain": [
       "               dist_per\n",
       "Latitude 5511     0.100\n",
       "Latitude 3500     0.089\n",
       "Latitude 5410     0.086\n",
       "Latitude 5510     0.078\n",
       "Latitude 7310     0.077\n",
       "Latitude 3410     0.077\n",
       "Latitude 5300     0.076\n",
       "Latitude 3301     0.076\n",
       "Latitude 3510     0.075\n",
       "Latitude 5411     0.073\n",
       "Latitude 3310     0.069\n",
       "Latitude 5400     0.063\n",
       "Latitude 9410     0.061"
      ]
     },
     "execution_count": 5,
     "metadata": {},
     "output_type": "execute_result"
    }
   ],
   "source": [
    "# Changing index values based on laptop models\n",
    "\n",
    "ads = pd.Series(ads_selected).tail(1000).value_counts(normalize=True)\n",
    "ads_df = pd.DataFrame(ads.values, index=ads.index, columns=['dist_per'])\n",
    "columns = dataset.columns.values\n",
    "\n",
    "idx = []\n",
    "for i in ads_df.index.values:\n",
    "    for j, col in enumerate(columns):\n",
    "        if i == j:\n",
    "            idx.append(col)\n",
    "ads_df.index = idx\n",
    "ads_df"
   ]
  },
  {
   "cell_type": "code",
   "execution_count": 6,
   "metadata": {},
   "outputs": [
    {
     "data": {
      "image/png": "[encoded data removed]",
      "text/plain": [
       "<Figure size 720x504 with 1 Axes>"
      ]
     },
     "metadata": {},
     "output_type": "display_data"
    }
   ],
   "source": [
    "# Import libraries \n",
    "import numpy as np \n",
    "import matplotlib.pyplot as plt \n",
    "# Creating dataset \n",
    "models = ads_df.index.values\n",
    "data = ads_df['dist_per'].values\n",
    "# Wedge properties \n",
    "wp = { 'linewidth' : 2, 'edgecolor' : \"black\" } \n",
    "# Creating autocpt arguments \n",
    "def func(pct, allvalues): \n",
    "    absolute = int(pct / 100.*np.sum(allvalues)) \n",
    "    return \"{:.1f}%\".format(pct, absolute) \n",
    "# Creating plot \n",
    "fig, ax = plt.subplots(figsize =(10, 7)) \n",
    "wedges, texts, autotexts = ax.pie(data, \n",
    "                                  autopct = lambda pct: func(pct, data), \n",
    "                                  explode = [0.25]*len(data), \n",
    "                                  labels = models, \n",
    "                                  shadow = True, \n",
    "                                  startangle = 90, \n",
    "                                  wedgeprops = wp, \n",
    "                                  textprops = dict(color =\"black\")) \n",
    "# Adding legend \n",
    "ax.legend(wedges, models, title =\"Laptop models\", loc =\"center left\", bbox_to_anchor =(1, 0, 0.5, 1)) \n",
    "plt.setp(autotexts, size = 12, weight =\"bold\") \n",
    "ax.set_title(\"Laptop Model selection\") \n",
    "# show plot \n",
    "plt.show() "
   ]
  },
  {
   "cell_type": "markdown",
   "metadata": {},
   "source": [
    "Every ad has almost the same probablity for clicking on the ad from 1 to 13."
   ]
  },
  {
   "cell_type": "markdown",
   "metadata": {},
   "source": [
    "## UCB (Upper Confidence Bound)"
   ]
  },
  {
   "cell_type": "markdown",
   "metadata": {},
   "source": [
    "It basically try to explore an arm which hasn't been pulled yet. So if we are more uncertain about an arm then it becomes more important to explore."
   ]
  },
  {
   "cell_type": "code",
   "execution_count": 7,
   "metadata": {},
   "outputs": [
    {
     "name": "stdout",
     "output_type": "stream",
     "text": [
      "Total reward:  1701\n"
     ]
    }
   ],
   "source": [
    "# Implementing UCB\n",
    "import math\n",
    "N = len(dataset)\n",
    "# for getting the number between 1 to 13.\n",
    "d = 13\n",
    "ads_selected = []\n",
    "numbers_of_selections = [0] * d\n",
    "sums_of_reward = [0] * d\n",
    "total_reward = 0\n",
    "for n in range(N):\n",
    "    ad = 0\n",
    "    # setting up maximum upper to 0 initially.\n",
    "    max_upper_bound = 0\n",
    "    # running for 13 ads\n",
    "    for i in range(d):\n",
    "        if (numbers_of_selections[i] > 0):\n",
    "            average_reward = sums_of_reward[i] / numbers_of_selections[i]\n",
    "            delta_i = math.sqrt(2 * math.log(n+1) / numbers_of_selections[i])\n",
    "            upper_bound = average_reward + delta_i\n",
    "        else:\n",
    "            upper_bound = 1e400\n",
    "        if upper_bound > max_upper_bound:\n",
    "            max_upper_bound = upper_bound\n",
    "            ad = i\n",
    "    ads_selected.append(ad)\n",
    "    numbers_of_selections[ad] += 1\n",
    "    reward = dataset.values[n, ad]\n",
    "    sums_of_reward[ad] += reward\n",
    "    total_reward += reward\n",
    "print(\"Total reward: \", total_reward)  "
   ]
  },
  {
   "cell_type": "code",
   "execution_count": 8,
   "metadata": {},
   "outputs": [
    {
     "data": {
      "text/html": [
       "<div>\n",
       "<style scoped>\n",
       "    .dataframe tbody tr th:only-of-type {\n",
       "        vertical-align: middle;\n",
       "    }\n",
       "\n",
       "    .dataframe tbody tr th {\n",
       "        vertical-align: top;\n",
       "    }\n",
       "\n",
       "    .dataframe thead th {\n",
       "        text-align: right;\n",
       "    }\n",
       "</style>\n",
       "<table border=\"1\" class=\"dataframe\">\n",
       "  <thead>\n",
       "    <tr style=\"text-align: right;\">\n",
       "      <th></th>\n",
       "      <th>dist_per</th>\n",
       "    </tr>\n",
       "  </thead>\n",
       "  <tbody>\n",
       "    <tr>\n",
       "      <th>Latitude 3301</th>\n",
       "      <td>0.177333</td>\n",
       "    </tr>\n",
       "    <tr>\n",
       "      <th>Latitude 5410</th>\n",
       "      <td>0.132000</td>\n",
       "    </tr>\n",
       "    <tr>\n",
       "      <th>Latitude 3510</th>\n",
       "      <td>0.107333</td>\n",
       "    </tr>\n",
       "    <tr>\n",
       "      <th>Latitude 9410</th>\n",
       "      <td>0.096000</td>\n",
       "    </tr>\n",
       "    <tr>\n",
       "      <th>Latitude 5411</th>\n",
       "      <td>0.062000</td>\n",
       "    </tr>\n",
       "    <tr>\n",
       "      <th>Latitude 5400</th>\n",
       "      <td>0.062000</td>\n",
       "    </tr>\n",
       "    <tr>\n",
       "      <th>Latitude 3500</th>\n",
       "      <td>0.062000</td>\n",
       "    </tr>\n",
       "    <tr>\n",
       "      <th>Latitude 7310</th>\n",
       "      <td>0.060000</td>\n",
       "    </tr>\n",
       "    <tr>\n",
       "      <th>Latitude 5510</th>\n",
       "      <td>0.060000</td>\n",
       "    </tr>\n",
       "    <tr>\n",
       "      <th>Latitude 5511</th>\n",
       "      <td>0.048000</td>\n",
       "    </tr>\n",
       "    <tr>\n",
       "      <th>Latitude 5300</th>\n",
       "      <td>0.045333</td>\n",
       "    </tr>\n",
       "    <tr>\n",
       "      <th>Latitude 3310</th>\n",
       "      <td>0.045333</td>\n",
       "    </tr>\n",
       "    <tr>\n",
       "      <th>Latitude 3410</th>\n",
       "      <td>0.042667</td>\n",
       "    </tr>\n",
       "  </tbody>\n",
       "</table>\n",
       "</div>"
      ],
      "text/plain": [
       "               dist_per\n",
       "Latitude 3301  0.177333\n",
       "Latitude 5410  0.132000\n",
       "Latitude 3510  0.107333\n",
       "Latitude 9410  0.096000\n",
       "Latitude 5411  0.062000\n",
       "Latitude 5400  0.062000\n",
       "Latitude 3500  0.062000\n",
       "Latitude 7310  0.060000\n",
       "Latitude 5510  0.060000\n",
       "Latitude 5511  0.048000\n",
       "Latitude 5300  0.045333\n",
       "Latitude 3310  0.045333\n",
       "Latitude 3410  0.042667"
      ]
     },
     "execution_count": 8,
     "metadata": {},
     "output_type": "execute_result"
    }
   ],
   "source": [
    "\n",
    "ads = pd.Series(ads_selected).head(1500).value_counts(normalize=True)\n",
    "ads_df = pd.DataFrame(ads.values, index=ads.index, columns=['dist_per'])\n",
    "columns = dataset.columns.values\n",
    "\n",
    "idx = []\n",
    "for i in ads_df.index.values:\n",
    "    for j, col in enumerate(columns):\n",
    "        if i == j:\n",
    "            idx.append(col)\n",
    "ads_df.index = idx\n",
    "ads_df"
   ]
  },
  {
   "cell_type": "code",
   "execution_count": 9,
   "metadata": {},
   "outputs": [
    {
     "data": {
      "image/png": "[encoded data removed]",
      "text/plain": [
       "<Figure size 1440x720 with 1 Axes>"
      ]
     },
     "metadata": {
      "needs_background": "light"
     },
     "output_type": "display_data"
    }
   ],
   "source": [
    "plt.figure(figsize=(20, 10))\n",
    "ax = sns.barplot(x = ads_df.index, y='dist_per', data=ads_df)\n",
    "plt.title(\"Distribution for Ads being selected with a probablity\")\n",
    "plt.xlabel(\"Laptop Model\")\n",
    "plt.ylabel(\"Probablity\")\n",
    "plt.show()"
   ]
  },
  {
   "cell_type": "markdown",
   "metadata": {},
   "source": [
    "We can see that Latitude 3301 was selected many times."
   ]
  },
  {
   "cell_type": "markdown",
   "metadata": {},
   "source": [
    "## Monte Carlo\n",
    "\n",
    "### A Monte Carlo simulation is a useful tool for predicting future results by calculating a formula multiple times with different random inputs. \n",
    "\n",
    "Let's say we have a scenerio where salesman has to sale laptops with a commission % and sales target for the next yeaar."
   ]
  },
  {
   "cell_type": "code",
   "execution_count": 10,
   "metadata": {},
   "outputs": [],
   "source": [
    "import numpy as np\n",
    "import matplotlib.pyplot as plt\n",
    "import pandas as pd\n",
    "import seaborn as sns"
   ]
  },
  {
   "cell_type": "code",
   "execution_count": 11,
   "metadata": {},
   "outputs": [],
   "source": [
    "# Define the variables for the Percent to target assuming the mentioned values.\n",
    "# Average target performance 100%\n",
    "mean = 1\n",
    "\n",
    "# deviation in performance 10%\n",
    "std = .1\n",
    "\n",
    "# Number of data points\n",
    "reps = 500\n",
    "\n",
    "# total iterations\n",
    "simulations = 1000"
   ]
  },
  {
   "cell_type": "code",
   "execution_count": 12,
   "metadata": {},
   "outputs": [],
   "source": [
    "pct_to_target = np.random.normal(mean, std, reps).round(2)"
   ]
  },
  {
   "cell_type": "code",
   "execution_count": 13,
   "metadata": {},
   "outputs": [],
   "source": [
    "sales_target_values = [40000, 55000, 65000, 78000, 89000, 110000]\n",
    "sales_target_prob = [.3, .3, .2, .1, .05, .05]\n",
    "sales_target = np.random.choice(sales_target_values, reps, p=sales_target_prob)"
   ]
  },
  {
   "cell_type": "code",
   "execution_count": 14,
   "metadata": {},
   "outputs": [
    {
     "data": {
      "text/html": [
       "<div>\n",
       "<style scoped>\n",
       "    .dataframe tbody tr th:only-of-type {\n",
       "        vertical-align: middle;\n",
       "    }\n",
       "\n",
       "    .dataframe tbody tr th {\n",
       "        vertical-align: top;\n",
       "    }\n",
       "\n",
       "    .dataframe thead th {\n",
       "        text-align: right;\n",
       "    }\n",
       "</style>\n",
       "<table border=\"1\" class=\"dataframe\">\n",
       "  <thead>\n",
       "    <tr style=\"text-align: right;\">\n",
       "      <th></th>\n",
       "      <th>Pct_To_Target</th>\n",
       "      <th>Sales_Target</th>\n",
       "      <th>Sales</th>\n",
       "    </tr>\n",
       "  </thead>\n",
       "  <tbody>\n",
       "    <tr>\n",
       "      <th>0</th>\n",
       "      <td>1.16</td>\n",
       "      <td>55000</td>\n",
       "      <td>63800.0</td>\n",
       "    </tr>\n",
       "    <tr>\n",
       "      <th>1</th>\n",
       "      <td>0.94</td>\n",
       "      <td>55000</td>\n",
       "      <td>51700.0</td>\n",
       "    </tr>\n",
       "    <tr>\n",
       "      <th>2</th>\n",
       "      <td>1.02</td>\n",
       "      <td>65000</td>\n",
       "      <td>66300.0</td>\n",
       "    </tr>\n",
       "    <tr>\n",
       "      <th>3</th>\n",
       "      <td>0.94</td>\n",
       "      <td>110000</td>\n",
       "      <td>103400.0</td>\n",
       "    </tr>\n",
       "    <tr>\n",
       "      <th>4</th>\n",
       "      <td>0.87</td>\n",
       "      <td>40000</td>\n",
       "      <td>34800.0</td>\n",
       "    </tr>\n",
       "  </tbody>\n",
       "</table>\n",
       "</div>"
      ],
      "text/plain": [
       "   Pct_To_Target  Sales_Target     Sales\n",
       "0           1.16         55000   63800.0\n",
       "1           0.94         55000   51700.0\n",
       "2           1.02         65000   66300.0\n",
       "3           0.94        110000  103400.0\n",
       "4           0.87         40000   34800.0"
      ]
     },
     "execution_count": 14,
     "metadata": {},
     "output_type": "execute_result"
    }
   ],
   "source": [
    "df = pd.DataFrame(index=range(reps), data={'Pct_To_Target': pct_to_target,\n",
    "                                               'Sales_Target': sales_target})\n",
    "df['Sales'] = df['Pct_To_Target'] * df['Sales_Target']\n",
    "df.head()"
   ]
  },
  {
   "cell_type": "code",
   "execution_count": 15,
   "metadata": {},
   "outputs": [
    {
     "data": {
      "text/plain": [
       "<AxesSubplot:title={'center':'% to Target Distribution'}, ylabel='Frequency'>"
      ]
     },
     "execution_count": 15,
     "metadata": {},
     "output_type": "execute_result"
    },
    {
     "data": {
      "image/png": "[encoded data removed]",
      "text/plain": [
       "<Figure size 432x288 with 1 Axes>"
      ]
     },
     "metadata": {
      "needs_background": "light"
     },
     "output_type": "display_data"
    }
   ],
   "source": [
    "df['Pct_To_Target'].plot(kind='hist', title='% to Target Distribution')"
   ]
  },
  {
   "cell_type": "code",
   "execution_count": 16,
   "metadata": {},
   "outputs": [
    {
     "data": {
      "text/plain": [
       "<AxesSubplot:title={'center':'Sales Target Distribution'}, ylabel='Frequency'>"
      ]
     },
     "execution_count": 16,
     "metadata": {},
     "output_type": "execute_result"
    },
    {
     "data": {
      "image/png": "[encoded data removed]",
      "text/plain": [
       "<Figure size 432x288 with 1 Axes>"
      ]
     },
     "metadata": {
      "needs_background": "light"
     },
     "output_type": "display_data"
    }
   ],
   "source": [
    "df['Sales_Target'].plot(kind='hist', title='Sales Target Distribution')"
   ]
  },
  {
   "cell_type": "markdown",
   "metadata": {},
   "source": [
    "Let's calculate the commission based on sales we are making while considering the performance rate."
   ]
  },
  {
   "cell_type": "code",
   "execution_count": 17,
   "metadata": {},
   "outputs": [],
   "source": [
    "def calc_commission_rate(x):\n",
    "    # if the performance rate is less than 90% then\n",
    "    # commission on the sale will be 2%\n",
    "    if x <= .90:\n",
    "        return .02\n",
    "    # if upto 99% then 3%\n",
    "    if x <= .99:\n",
    "        return .03\n",
    "    # if 100% then it will be 4%\n",
    "    else:\n",
    "        return .04"
   ]
  },
  {
   "cell_type": "code",
   "execution_count": 18,
   "metadata": {},
   "outputs": [
    {
     "data": {
      "text/html": [
       "<div>\n",
       "<style scoped>\n",
       "    .dataframe tbody tr th:only-of-type {\n",
       "        vertical-align: middle;\n",
       "    }\n",
       "\n",
       "    .dataframe tbody tr th {\n",
       "        vertical-align: top;\n",
       "    }\n",
       "\n",
       "    .dataframe thead th {\n",
       "        text-align: right;\n",
       "    }\n",
       "</style>\n",
       "<table border=\"1\" class=\"dataframe\">\n",
       "  <thead>\n",
       "    <tr style=\"text-align: right;\">\n",
       "      <th></th>\n",
       "      <th>Pct_To_Target</th>\n",
       "      <th>Sales_Target</th>\n",
       "      <th>Sales</th>\n",
       "      <th>Commission_Rate</th>\n",
       "      <th>Commission_Amount</th>\n",
       "    </tr>\n",
       "  </thead>\n",
       "  <tbody>\n",
       "    <tr>\n",
       "      <th>0</th>\n",
       "      <td>1.16</td>\n",
       "      <td>55000</td>\n",
       "      <td>63800.0</td>\n",
       "      <td>0.04</td>\n",
       "      <td>2552.0</td>\n",
       "    </tr>\n",
       "    <tr>\n",
       "      <th>1</th>\n",
       "      <td>0.94</td>\n",
       "      <td>55000</td>\n",
       "      <td>51700.0</td>\n",
       "      <td>0.03</td>\n",
       "      <td>1551.0</td>\n",
       "    </tr>\n",
       "    <tr>\n",
       "      <th>2</th>\n",
       "      <td>1.02</td>\n",
       "      <td>65000</td>\n",
       "      <td>66300.0</td>\n",
       "      <td>0.04</td>\n",
       "      <td>2652.0</td>\n",
       "    </tr>\n",
       "    <tr>\n",
       "      <th>3</th>\n",
       "      <td>0.94</td>\n",
       "      <td>110000</td>\n",
       "      <td>103400.0</td>\n",
       "      <td>0.03</td>\n",
       "      <td>3102.0</td>\n",
       "    </tr>\n",
       "    <tr>\n",
       "      <th>4</th>\n",
       "      <td>0.87</td>\n",
       "      <td>40000</td>\n",
       "      <td>34800.0</td>\n",
       "      <td>0.02</td>\n",
       "      <td>696.0</td>\n",
       "    </tr>\n",
       "  </tbody>\n",
       "</table>\n",
       "</div>"
      ],
      "text/plain": [
       "   Pct_To_Target  Sales_Target     Sales  Commission_Rate  Commission_Amount\n",
       "0           1.16         55000   63800.0             0.04             2552.0\n",
       "1           0.94         55000   51700.0             0.03             1551.0\n",
       "2           1.02         65000   66300.0             0.04             2652.0\n",
       "3           0.94        110000  103400.0             0.03             3102.0\n",
       "4           0.87         40000   34800.0             0.02              696.0"
      ]
     },
     "execution_count": 18,
     "metadata": {},
     "output_type": "execute_result"
    }
   ],
   "source": [
    "df['Commission_Rate'] = df['Pct_To_Target'].apply(calc_commission_rate)\n",
    "df['Commission_Amount'] = df['Commission_Rate'] * df['Sales']\n",
    "df.head()"
   ]
  },
  {
   "cell_type": "code",
   "execution_count": 19,
   "metadata": {},
   "outputs": [],
   "source": [
    "all_stats = []\n",
    "\n",
    "# Loop through many simulations\n",
    "for i in range(simulations):\n",
    "    \n",
    "    # Choose random inputs for the sales targets and percent to target\n",
    "    sales_target = np.random.choice(sales_target_values, reps, p=sales_target_prob)\n",
    "    pct_to_target = np.random.normal(mean, std, reps).round(2)\n",
    "    \n",
    "    # Dataframe is build based on the inputs and number of repitations\n",
    "    df = pd.DataFrame(index=range(reps), data={'Pct_To_Target': pct_to_target,\n",
    "                                                   'Sales_Target': sales_target})\n",
    "    \n",
    "    # Number of sales using the percent to target rate\n",
    "    df['Sales'] = df['Pct_To_Target'] * df['Sales_Target']\n",
    "    \n",
    "    # Calculate and decide the commissions rate \n",
    "    df['Commission_Rate'] = df['Pct_To_Target'].apply(calc_commission_rate)\n",
    "    df['Commission_Amount'] = df['Commission_Rate'] * df['Sales']\n",
    "    \n",
    "    # Track the sales,commission amounts and sales targets for all the simulations\n",
    "    all_stats.append([df['Sales'].sum().round(0), \n",
    "                      df['Commission_Amount'].sum().round(0), \n",
    "                      df['Sales_Target'].sum().round(0)])"
   ]
  },
  {
   "cell_type": "code",
   "execution_count": 20,
   "metadata": {},
   "outputs": [
    {
     "data": {
      "text/html": [
       "<style  type=\"text/css\" >\n",
       "</style><table id=\"T_41736c90_2424_11eb_8d2e_2926beeef72d\" ><thead>    <tr>        <th class=\"blank level0\" ></th>        <th class=\"col_heading level0 col0\" >Sales</th>        <th class=\"col_heading level0 col1\" >Commission_Amount</th>        <th class=\"col_heading level0 col2\" >Sales_Target</th>    </tr></thead><tbody>\n",
       "                <tr>\n",
       "                        <th id=\"T_41736c90_2424_11eb_8d2e_2926beeef72dlevel0_row0\" class=\"row_heading level0 row0\" >count</th>\n",
       "                        <td id=\"T_41736c90_2424_11eb_8d2e_2926beeef72drow0_col0\" class=\"data row0 col0\" >1,000.0</td>\n",
       "                        <td id=\"T_41736c90_2424_11eb_8d2e_2926beeef72drow0_col1\" class=\"data row0 col1\" >1,000.0</td>\n",
       "                        <td id=\"T_41736c90_2424_11eb_8d2e_2926beeef72drow0_col2\" class=\"data row0 col2\" >1,000.0</td>\n",
       "            </tr>\n",
       "            <tr>\n",
       "                        <th id=\"T_41736c90_2424_11eb_8d2e_2926beeef72dlevel0_row1\" class=\"row_heading level0 row1\" >mean</th>\n",
       "                        <td id=\"T_41736c90_2424_11eb_8d2e_2926beeef72drow1_col0\" class=\"data row1 col0\" >29,613,002.0</td>\n",
       "                        <td id=\"T_41736c90_2424_11eb_8d2e_2926beeef72drow1_col1\" class=\"data row1 col1\" >1,010,598.0</td>\n",
       "                        <td id=\"T_41736c90_2424_11eb_8d2e_2926beeef72drow1_col2\" class=\"data row1 col2\" >29,620,936.0</td>\n",
       "            </tr>\n",
       "            <tr>\n",
       "                        <th id=\"T_41736c90_2424_11eb_8d2e_2926beeef72dlevel0_row2\" class=\"row_heading level0 row2\" >std</th>\n",
       "                        <td id=\"T_41736c90_2424_11eb_8d2e_2926beeef72drow2_col0\" class=\"data row2 col0\" >411,279.0</td>\n",
       "                        <td id=\"T_41736c90_2424_11eb_8d2e_2926beeef72drow2_col1\" class=\"data row2 col1\" >18,839.0</td>\n",
       "                        <td id=\"T_41736c90_2424_11eb_8d2e_2926beeef72drow2_col2\" class=\"data row2 col2\" >394,494.0</td>\n",
       "            </tr>\n",
       "            <tr>\n",
       "                        <th id=\"T_41736c90_2424_11eb_8d2e_2926beeef72dlevel0_row3\" class=\"row_heading level0 row3\" >min</th>\n",
       "                        <td id=\"T_41736c90_2424_11eb_8d2e_2926beeef72drow3_col0\" class=\"data row3 col0\" >28,479,310.0</td>\n",
       "                        <td id=\"T_41736c90_2424_11eb_8d2e_2926beeef72drow3_col1\" class=\"data row3 col1\" >956,868.0</td>\n",
       "                        <td id=\"T_41736c90_2424_11eb_8d2e_2926beeef72drow3_col2\" class=\"data row3 col2\" >28,592,000.0</td>\n",
       "            </tr>\n",
       "            <tr>\n",
       "                        <th id=\"T_41736c90_2424_11eb_8d2e_2926beeef72dlevel0_row4\" class=\"row_heading level0 row4\" >25%</th>\n",
       "                        <td id=\"T_41736c90_2424_11eb_8d2e_2926beeef72drow4_col0\" class=\"data row4 col0\" >29,342,040.0</td>\n",
       "                        <td id=\"T_41736c90_2424_11eb_8d2e_2926beeef72drow4_col1\" class=\"data row4 col1\" >997,414.0</td>\n",
       "                        <td id=\"T_41736c90_2424_11eb_8d2e_2926beeef72drow4_col2\" class=\"data row4 col2\" >29,345,000.0</td>\n",
       "            </tr>\n",
       "            <tr>\n",
       "                        <th id=\"T_41736c90_2424_11eb_8d2e_2926beeef72dlevel0_row5\" class=\"row_heading level0 row5\" >50%</th>\n",
       "                        <td id=\"T_41736c90_2424_11eb_8d2e_2926beeef72drow5_col0\" class=\"data row5 col0\" >29,608,095.0</td>\n",
       "                        <td id=\"T_41736c90_2424_11eb_8d2e_2926beeef72drow5_col1\" class=\"data row5 col1\" >1,010,151.0</td>\n",
       "                        <td id=\"T_41736c90_2424_11eb_8d2e_2926beeef72drow5_col2\" class=\"data row5 col2\" >29,611,000.0</td>\n",
       "            </tr>\n",
       "            <tr>\n",
       "                        <th id=\"T_41736c90_2424_11eb_8d2e_2926beeef72dlevel0_row6\" class=\"row_heading level0 row6\" >75%</th>\n",
       "                        <td id=\"T_41736c90_2424_11eb_8d2e_2926beeef72drow6_col0\" class=\"data row6 col0\" >29,896,038.0</td>\n",
       "                        <td id=\"T_41736c90_2424_11eb_8d2e_2926beeef72drow6_col1\" class=\"data row6 col1\" >1,022,796.0</td>\n",
       "                        <td id=\"T_41736c90_2424_11eb_8d2e_2926beeef72drow6_col2\" class=\"data row6 col2\" >29,893,250.0</td>\n",
       "            </tr>\n",
       "            <tr>\n",
       "                        <th id=\"T_41736c90_2424_11eb_8d2e_2926beeef72dlevel0_row7\" class=\"row_heading level0 row7\" >max</th>\n",
       "                        <td id=\"T_41736c90_2424_11eb_8d2e_2926beeef72drow7_col0\" class=\"data row7 col0\" >31,107,240.0</td>\n",
       "                        <td id=\"T_41736c90_2424_11eb_8d2e_2926beeef72drow7_col1\" class=\"data row7 col1\" >1,067,470.0</td>\n",
       "                        <td id=\"T_41736c90_2424_11eb_8d2e_2926beeef72drow7_col2\" class=\"data row7 col2\" >30,959,000.0</td>\n",
       "            </tr>\n",
       "    </tbody></table>"
      ],
      "text/plain": [
       "<pandas.io.formats.style.Styler at 0x7f72d8b2dcd0>"
      ]
     },
     "execution_count": 20,
     "metadata": {},
     "output_type": "execute_result"
    }
   ],
   "source": [
    "results_df = pd.DataFrame.from_records(all_stats, columns=['Sales', 'Commission_Amount', 'Sales_Target'])\n",
    "results_df.describe().round(0).style.format('{:,}')"
   ]
  },
  {
   "cell_type": "code",
   "execution_count": null,
   "metadata": {},
   "outputs": [],
   "source": []
  }
 ],
 "metadata": {
  "kernelspec": {
   "display_name": "Python 3",
   "language": "python",
   "name": "python3"
  },
  "language_info": {
   "codemirror_mode": {
    "name": "ipython",
    "version": 3
   },
   "file_extension": ".py",
   "mimetype": "text/x-python",
   "name": "python",
   "nbconvert_exporter": "python",
   "pygments_lexer": "ipython3",
   "version": "3.7.6"
  }
 },
 "nbformat": 4,
 "nbformat_minor": 4
}
